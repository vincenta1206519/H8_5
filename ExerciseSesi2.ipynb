{
 "cells": [
  {
   "cell_type": "markdown",
   "metadata": {},
   "source": [
    "# Exercise Sesi ke 2"
   ]
  },
  {
   "cell_type": "markdown",
   "metadata": {},
   "source": [
    "## Soal Ke-1"
   ]
  },
  {
   "cell_type": "code",
   "execution_count": 1,
   "metadata": {},
   "outputs": [
    {
     "name": "stdout",
     "output_type": "stream",
     "text": [
      "Bilangan  1  tergolong bilangan GANJIL\n"
     ]
    }
   ],
   "source": [
    "#Prediksi Ganjil Genap\n",
    "a = int(input('Masukkan Nilai yang akan diprediksi'))\n",
    "\n",
    "if a < 0:\n",
    "    print('Masukkan Bilangan Bulat Positif')\n",
    "elif a == 0:\n",
    "    print(a, 'Bukanlah Bilangan Ganjil atau Genap')\n",
    "elif a % 2 == 0:\n",
    "    print('Bilangan ',a, ' tergolong bilangan GENAP')\n",
    "else:\n",
    "    print('Bilangan ',a, ' tergolong bilangan GANJIL')"
   ]
  },
  {
   "cell_type": "markdown",
   "metadata": {},
   "source": [
    "## Soal Ke-2"
   ]
  },
  {
   "cell_type": "code",
   "execution_count": 1,
   "metadata": {},
   "outputs": [
    {
     "name": "stdout",
     "output_type": "stream",
     "text": [
      "MENU MENGHITUNG RUMUS LUAS SEGITIGA DAN PERSEGI\n",
      "Masukkan angka 1 untuk menghitung Luas Segitiga\n",
      "Masukkan angka 2 untuk menghitung Luas Persegi\n",
      "Luas Segitiga Tersebut Adalah 0.5\n"
     ]
    }
   ],
   "source": [
    "#Menghitung Rumus Segitiga dan Persegi\n",
    "print('MENU MENGHITUNG RUMUS LUAS SEGITIGA DAN PERSEGI')\n",
    "print('Masukkan angka 1 untuk menghitung Luas Segitiga')\n",
    "print('Masukkan angka 2 untuk menghitung Luas Persegi')\n",
    "a = int(input('Pilihan Menu Yang Diinginkan :'))\n",
    "\n",
    "if a == 1:\n",
    "    Tinggi_Segitiga = int(input('Masukkan Tinggi Segitiga :'))\n",
    "    Alas_Segitiga = int(input('Masukkan Alas Segitiga :'))\n",
    "    Luas_Segitiga = (Alas_Segitiga * Tinggi_Segitiga)/2\n",
    "    print('Luas Segitiga Tersebut Adalah', Luas_Segitiga)\n",
    "elif a == 2:\n",
    "    Sisi_Persegi = int(input('Masukkan Tinggi Segitiga :'))\n",
    "    Luas_Persegi = Sisi_Persegi ** 2\n",
    "    print('Luas Persegi Tersebut Adalah', Luas_Persegi)\n",
    "else:\n",
    "    print('Masukkan Inputan Yang Benar')"
   ]
  },
  {
   "cell_type": "markdown",
   "metadata": {},
   "source": [
    "## Soal Ke-3"
   ]
  },
  {
   "cell_type": "code",
   "execution_count": null,
   "metadata": {},
   "outputs": [],
   "source": [
    "#Program Menghitung Tahun Bulan dan Hari\n",
    "Hari_Prediksi = int(input('Masukkan Jumlah Hari :'))\n",
    "if Hari_Prediksi<0:\n",
    "    print('Masukkan Jumlah Hari yang Benar')\n",
    "else:\n",
    "    Tahun_Hasil = Hari_Prediksi // 360\n",
    "    Bulan_Hasil = (Hari_Prediksi % 360) // 30\n",
    "    Minggu_Hasil = ((Hari_Prediksi % 360) %30) // 7\n",
    "    Hari_Hasil = ((Hari_Prediksi % 360) % 30) % 7 \n",
    "    print(Hari_Prediksi, 'Hari  = ', Tahun_Hasil, 'tahun', Bulan_Hasil, 'bulan', Minggu_Hasil , 'Minggu', Hari_Hasil, 'Hari')"
   ]
  },
  {
   "cell_type": "markdown",
   "metadata": {},
   "source": [
    "## Soal Ke-4"
   ]
  },
  {
   "cell_type": "code",
   "execution_count": 3,
   "metadata": {},
   "outputs": [
    {
     "name": "stdout",
     "output_type": "stream",
     "text": [
      "Jumlah Kalimat Ideal, Berikut Ini Adalah Kalimatnya :  Nama Saya Vincent\n"
     ]
    }
   ],
   "source": [
    "#Progam Print kalimat >50 char\n",
    "Kalimat_Input = input('Masukkan Sebuah Kalimat :')\n",
    "while len(Kalimat_Input) >= 50:\n",
    "    Kalimat_Input = input('Masukkan Sebuah Kalimat :')\n",
    "\n",
    "print('Jumlah Kalimat Ideal, Berikut Ini Adalah Kalimatnya : ', Kalimat_Input)\n",
    "   "
   ]
  }
 ],
 "metadata": {
  "kernelspec": {
   "display_name": "base",
   "language": "python",
   "name": "python3"
  },
  "language_info": {
   "codemirror_mode": {
    "name": "ipython",
    "version": 3
   },
   "file_extension": ".py",
   "mimetype": "text/x-python",
   "name": "python",
   "nbconvert_exporter": "python",
   "pygments_lexer": "ipython3",
   "version": "3.11.4"
  },
  "orig_nbformat": 4
 },
 "nbformat": 4,
 "nbformat_minor": 2
}
